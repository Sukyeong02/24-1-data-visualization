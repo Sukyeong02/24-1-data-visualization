{
  "cells": [
    {
      "cell_type": "markdown",
      "metadata": {
        "id": "view-in-github",
        "colab_type": "text"
      },
      "source": [
        "<a href=\"https://colab.research.google.com/github/Sukyeong02/24-1-data-visualization/blob/main/%EA%B3%BC%EC%A0%9C2.ipynb\" target=\"_parent\"><img src=\"https://colab.research.google.com/assets/colab-badge.svg\" alt=\"Open In Colab\"/></a>"
      ]
    },
    {
      "cell_type": "markdown",
      "id": "9afcfde1",
      "metadata": {
        "id": "9afcfde1"
      },
      "source": [
        "<h1><span style=\"color:red\">유의사항</span></h1><br>\n",
        "1. 가장 먼저 ipynb 파일명을 자신의 이름과 학번으로 수정하고, 작업을 진행하세요. e.g. 솜솜이_20240412.ipynb<br>\n",
        "2. 제공된 csv 파일의 행 또는 열을 임의로 삭제하거나 추가하는 등 csv 파일을 수정하는 것은 허용하지 않습니다.<br>\n",
        "3. 각 문제마다, 문제 해결에 필요한 라이브러리를 import하는 부분은 이미 작성되어 있습니다.<br>\n",
        "4. 문제마다 소스 코드를 여러 셀(Cells)에 나누어 작성해도 좋으나, 불필요한 셀은 단축키 dd를 눌러서 제거하세요.<br>\n",
        "5. 채점은 문제마다 독립적으로 이루어지며, 여러분들이 제출한 파일을 제 노브툭 환경에서 [Run]-[Run All Cells]를 눌렀을 때, 정상 실행 및 요구한 결과가 올바르게 출력되는지 여부로 평가합니다.<br>\n",
        "6. 셀 실행(▶ Run) 버튼 클릭 시, Error 메시지가 출력되고 정상 실행되지 않을 경우 해당 문제는 이유 여하를 막론하고 0점 처리됩니다(부분 점수 없음).<br>\n",
        "7. 셀 실행(▶ Run) 버튼 클릭 시, Warning 메시지가 출력될 경우 문제 상황에 따라 0점 또는 감점 받을 수 있습니다.<br>\n",
        "8. 셀 실행(▶ Run) 버튼 클릭 시, 문제에서 요구하지 않은 결과물이 출력될 경우, 0점 또는 감점 받을 수 있습니다.<br>\n",
        "9. 작성 완료한 파일을 제출하기 전에 [Run]-[Run All Cells]를 눌러서, 자신이 작성한 코드가 오류 없이 정상 작동하는지 그리고 결과물이 제대로 출력되는지 확인 후 제출하세요."
      ]
    },
    {
      "cell_type": "markdown",
      "id": "b8580080",
      "metadata": {
        "id": "b8580080"
      },
      "source": [
        "<h1><span style=\"color:red\">답안 제출방법</span></h1><br>\n",
        "1. 작성 완료한 ipynb 파일을 스마트 클래스(Smart Class) 강의과목 과제 메뉴의 <span style=\"color:blue\">과제 2</span>에 업로드합니다.<br>\n",
        "2. 제출 전에 파일명을 자신의 이름과 학번으로 작성했는지 다시 한번 확인하세요.<br>"
      ]
    },
    {
      "cell_type": "markdown",
      "id": "3ba60f54",
      "metadata": {
        "id": "3ba60f54"
      },
      "source": [
        "<h1>문제 1</h1>\n",
        "lotto_number.csv 파일에서 회차별 NUM1부터 NUM6까지 기록된 6개의 로또 번호로부터, 가장 많이 나온 번호와 해당 번호가 나온 횟수를 출력할 수 있도록 아래 코드를 완성시키세요.<br>\n",
        "문장과 값을 출력할 때, print( ) 함수를 사용해 출력시키세요.<br>\n",
        "예를 들어, <br>\n",
        "print(\"가장 많이 나온 번호:\", 변수_이름1)<br>\n",
        "print(변수_이름1, \"번 공이 나온 횟수:\", 변수_이름2)<br>\n",
        "\n",
        "<br><8 Columns><br>\n",
        "1. TIME: 로또 방송 회차<br>\n",
        "2. NUM1: 첫 번째로 뽑힌 공의 번호<br>\n",
        "3. NUM2: 두 번째로 뽑힌 공의 번호<br>\n",
        "4. NUM3: 세 번째로 뽑힌 공의 번호<br>\n",
        "5. NUM4: 네 번째로 뽑힌 공의 번호<br>\n",
        "6. NUM5: 다섯 번째로 뽑힌 공의 번호<br>\n",
        "7. NUM6: 여섯 번째로 뽑힌 공의 번호<br>\n",
        "8. BONUS: 보너스 공의 번호<br>\n",
        "\n",
        "<h4>제약사항</h4>\n",
        "* NumPy 또는 pandas 라이브러리에서 제공하는 함수 또는 클래스 등을 사용할 경우 감점합니다.<br>\n",
        "* 우리는 아직 NumPy, pandas 라이브러리를 공부하지 않았습니다.<br>"
      ]
    },
    {
      "cell_type": "code",
      "execution_count": null,
      "id": "f1f1b805-49cb-4134-b563-929921af969c",
      "metadata": {
        "id": "f1f1b805-49cb-4134-b563-929921af969c",
        "outputId": "f384a5f9-97d0-4fa9-ea54-fad02746d985"
      },
      "outputs": [
        {
          "name": "stdout",
          "output_type": "stream",
          "text": [
            "가장 많이 나온 번호: 34\n",
            "34 번 공이 나온 횟수: 152\n"
          ]
        }
      ],
      "source": [
        "import csv\n",
        "import matplotlib.pyplot as plt\n",
        "\n",
        "f = open(\"lotto_number.csv\", 'r', encoding=\"cp949\")\n",
        "data = csv.reader(f)\n",
        "\n",
        "# 아래부터 솜솜이가 작성해야 할 부분\n",
        "header = next(data)\n",
        "count = [0] * 45\n",
        "max_count = 0\n",
        "max_number = 0\n",
        "\n",
        "for row in data:\n",
        "    for i in range(1,7):\n",
        "        num = int(row[i])\n",
        "        count[num - 1] += 1\n",
        "        if count[num - 1] > max_count:\n",
        "            max_count = count[num - 1]\n",
        "            max_number = num\n",
        "\n",
        "print(\"가장 많이 나온 번호:\", max_number)\n",
        "print(max_number, \"번 공이 나온 횟수:\", max_count)\n",
        "\n",
        "\n",
        "# 수고하셨습니다.\n",
        "f.close()"
      ]
    },
    {
      "cell_type": "markdown",
      "id": "3f71c296",
      "metadata": {
        "id": "3f71c296"
      },
      "source": [
        "<h1>문제 2</h1>\n",
        "사용자가 궁금해 하는 로또 회차 정보를 입력받았을 때, lotto_number.csv 파일에서 해당 회차의 로또 당첨 번호를 출력할 수 있도록 아래 코드를 완성시키세요.<br>\n",
        "이때, 보너스 번호를 제외한 6개의 로또 번호를 내림차순으로 출력하도록 하세요.<br>\n",
        "문장과 값을 출력할 때, print( ) 함수를 사용해 출력시키세요.<br>\n",
        "\n",
        "<h4>제약사항</h4>\n",
        "* NumPy 또는 pandas 라이브러리에서 제공하는 함수 또는 클래스 등을 사용할 경우 감점합니다.<br>\n",
        "* 우리는 아직 NumPy, pandas 라이브러리를 공부하지 않았습니다.<br>"
      ]
    },
    {
      "cell_type": "code",
      "execution_count": null,
      "id": "529839c7",
      "metadata": {
        "id": "529839c7",
        "outputId": "adff481a-b183-4664-a817-efdc90665985"
      },
      "outputs": [
        {
          "name": "stdin",
          "output_type": "stream",
          "text": [
            "어느 회차의 로또 당첨 번호가 궁금하신가요(1~1003회차)? 12\n"
          ]
        },
        {
          "name": "stdout",
          "output_type": "stream",
          "text": [
            "12 회차 당첨 번호: [45, 39, 25, 21, 11, 2]\n",
            "보너스 공 번호: 44\n"
          ]
        }
      ],
      "source": [
        "import csv\n",
        "import matplotlib.pyplot as plt\n",
        "\n",
        "f = open(\"lotto_number.csv\", 'r', encoding=\"cp949\")\n",
        "data = csv.reader(f)\n",
        "\n",
        "order = int(input(\"어느 회차의 로또 당첨 번호가 궁금하신가요(1~1003회차)?\"))\n",
        "\n",
        "# 아래부터 솜솜이가 작성해야 할 부분\n",
        "header = next(data)\n",
        "result = []\n",
        "bonus = 0\n",
        "\n",
        "for row in data:\n",
        "    if int(row[0]) == order:\n",
        "        bonus = int(row[7])\n",
        "        for i in range(1,7):\n",
        "            result.append(int(row[i]))\n",
        "\n",
        "result.sort()\n",
        "result.reverse()\n",
        "\n",
        "print(order, '회차 당첨 번호:', result)\n",
        "print('보너스 공 번호:', bonus)\n",
        "\n",
        "# 수고하셨습니다.\n",
        "f.close()"
      ]
    },
    {
      "cell_type": "markdown",
      "id": "50c0e834",
      "metadata": {
        "id": "50c0e834"
      },
      "source": [
        "<h1>수고하셨습니다.</h1>"
      ]
    }
  ],
  "metadata": {
    "kernelspec": {
      "display_name": "Python 3",
      "language": "python",
      "name": "python3"
    },
    "language_info": {
      "codemirror_mode": {
        "name": "ipython",
        "version": 3
      },
      "file_extension": ".py",
      "mimetype": "text/x-python",
      "name": "python",
      "nbconvert_exporter": "python",
      "pygments_lexer": "ipython3",
      "version": "3.8.8"
    },
    "colab": {
      "provenance": [],
      "include_colab_link": true
    }
  },
  "nbformat": 4,
  "nbformat_minor": 5
}